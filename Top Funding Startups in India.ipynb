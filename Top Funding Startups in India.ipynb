{
 "cells": [
  {
   "cell_type": "markdown",
   "metadata": {
    "_cell_guid": "cd7974d8-b021-48fc-82a3-38e9c0a1e55f",
    "_uuid": "368472aa4677fe51201edce80d0a75ceb66a6f29"
   },
   "source": [
    "![](http://sabtrends.com/wp-content/uploads/2017/05/funding-word-money-100-dollar-bill-currency-ball.jpg)"
   ]
  },
  {
   "cell_type": "markdown",
   "metadata": {
    "_cell_guid": "f05e8b93-1025-471d-b11a-22b866465917",
    "_uuid": "948df9dd653628000eb87a72fd776ceddf98d492"
   },
   "source": [
    "# More To Come. Stay Tuned. !! \n",
    "  If there are any suggestions/changes you would like to see in the Kernel please let me know :). Appreciate every ounce of help!\n",
    "\n",
    "**This notebook will always be a work in progress**. Please leave any comments about further improvements to the notebook! Any feedback or constructive criticism is greatly appreciated!. **If you like it or it helps you , you can upvote and/or leave a comment :).**\n",
    "\n"
   ]
  },
  {
   "cell_type": "markdown",
   "metadata": {
    "_cell_guid": "03658fd2-3825-419a-b301-cbe269ba31e8",
    "_uuid": "5ac1440eb4cc70eb97df740e104c34de2695f759"
   },
   "source": [
    "## This notebook explores the analysis of indian startup funding and basically gives answer of following questions :-\n",
    "1.  How does the funding ecosystem change with time ?(Number of funding per month)\n",
    "2. How much funds does startups generally get in India ?(maximum funding, minimum funding , average funding and number of fundings)\n",
    "3. Which industries are favored by investors for funding ? (OR) Which type of companies got more easily funding ?\n",
    "4. Do cities play a major role in funding ? (OR) Which city has maximum startups ?\n",
    "5. Who is the important investors in the Indian Ecosystem?\n",
    "6. What are different types of funding for startups ?"
   ]
  },
  {
   "cell_type": "code",
   "execution_count": 15,
   "metadata": {
    "_cell_guid": "9e4867c0-8bfa-445c-ac71-4ae452028af9",
    "_kg_hide-input": true,
    "_uuid": "99c097cad13f9e5e2e6bff0bd5cfb16edc99b764"
   },
   "outputs": [
    {
     "data": {
      "text/html": [
       "        <script type=\"text/javascript\">\n",
       "        window.PlotlyConfig = {MathJaxConfig: 'local'};\n",
       "        if (window.MathJax) {MathJax.Hub.Config({SVG: {font: \"STIX-Web\"}});}\n",
       "        if (typeof require !== 'undefined') {\n",
       "        require.undef(\"plotly\");\n",
       "        requirejs.config({\n",
       "            paths: {\n",
       "                'plotly': ['https://cdn.plot.ly/plotly-latest.min']\n",
       "            }\n",
       "        });\n",
       "        require(['plotly'], function(Plotly) {\n",
       "            window._Plotly = Plotly;\n",
       "        });\n",
       "        }\n",
       "        </script>\n",
       "        "
      ]
     },
     "metadata": {},
     "output_type": "display_data"
    }
   ],
   "source": [
    "import numpy as np # linear algebra\n",
    "import pandas as pd # data processing, CSV file I/O (e.g. pd.read_csv)\n",
    "import matplotlib.pyplot as plt # Visualization\n",
    "import seaborn as sns\n",
    "color = sns.color_palette()\n",
    "#import squarify\n",
    "\n",
    "import regex as re\n",
    "import plotly.offline as py\n",
    "py.init_notebook_mode(connected=True)\n",
    "import plotly.graph_objs as go\n",
    "%matplotlib inline\n",
    "pd.options.mode.chained_assignment = None\n",
    "#pd.options.display.max_columns = 999"
   ]
  },
  {
   "cell_type": "markdown",
   "metadata": {
    "_cell_guid": "0092d8d8-00bd-4a9b-af23-e7fbb219828a",
    "_uuid": "abaad85a92539a0dcc831cc71ae95a3132acd328"
   },
   "source": [
    "## Obtaining the data"
   ]
  },
  {
   "cell_type": "code",
   "execution_count": 25,
   "metadata": {
    "_cell_guid": "084e46b8-2b28-4426-a93f-7e8ab8b8d285",
    "_kg_hide-input": true,
    "_uuid": "dc62c24e81201bf62f0437c0af2b373e7f47e524"
   },
   "outputs": [
    {
     "data": {
      "text/html": [
       "<div>\n",
       "<style scoped>\n",
       "    .dataframe tbody tr th:only-of-type {\n",
       "        vertical-align: middle;\n",
       "    }\n",
       "\n",
       "    .dataframe tbody tr th {\n",
       "        vertical-align: top;\n",
       "    }\n",
       "\n",
       "    .dataframe thead th {\n",
       "        text-align: right;\n",
       "    }\n",
       "</style>\n",
       "<table border=\"1\" class=\"dataframe\">\n",
       "  <thead>\n",
       "    <tr style=\"text-align: right;\">\n",
       "      <th></th>\n",
       "      <th>Sr No</th>\n",
       "      <th>Date ddmmyyyy</th>\n",
       "      <th>Startup Name</th>\n",
       "      <th>Industry Vertical</th>\n",
       "      <th>SubVertical</th>\n",
       "      <th>City  Location</th>\n",
       "      <th>Investorsxe2x80x99 Name</th>\n",
       "      <th>InvestmentnType</th>\n",
       "      <th>Amount in USD</th>\n",
       "      <th>Remarks</th>\n",
       "    </tr>\n",
       "  </thead>\n",
       "  <tbody>\n",
       "    <tr>\n",
       "      <th>0</th>\n",
       "      <td>0</td>\n",
       "      <td>05/09/2019</td>\n",
       "      <td>FPL Technologies</td>\n",
       "      <td>FinTech</td>\n",
       "      <td>Financial Services</td>\n",
       "      <td>Pune</td>\n",
       "      <td>Matrix Partners India, Sequoia India</td>\n",
       "      <td>Maiden Round</td>\n",
       "      <td>4,500,000</td>\n",
       "      <td>NaN</td>\n",
       "    </tr>\n",
       "    <tr>\n",
       "      <th>1</th>\n",
       "      <td>1</td>\n",
       "      <td>04/09/2019</td>\n",
       "      <td>Cashflo</td>\n",
       "      <td>FinTech</td>\n",
       "      <td>Invoice discounting platform and SME lending m...</td>\n",
       "      <td>Mumbai</td>\n",
       "      <td>SAIF Partners</td>\n",
       "      <td>Series A</td>\n",
       "      <td>3,300,000</td>\n",
       "      <td>NaN</td>\n",
       "    </tr>\n",
       "    <tr>\n",
       "      <th>2</th>\n",
       "      <td>2</td>\n",
       "      <td>04/09/2019</td>\n",
       "      <td>Digital F5</td>\n",
       "      <td>Advertising, Marketing</td>\n",
       "      <td>Digital marketing firm</td>\n",
       "      <td>Mumbai</td>\n",
       "      <td>TIW Private Equity</td>\n",
       "      <td>Private Equity Round</td>\n",
       "      <td>6,000,000</td>\n",
       "      <td>NaN</td>\n",
       "    </tr>\n",
       "    <tr>\n",
       "      <th>3</th>\n",
       "      <td>3</td>\n",
       "      <td>04/09/2019</td>\n",
       "      <td>3rdFlix</td>\n",
       "      <td>SaaS</td>\n",
       "      <td>Education Technology</td>\n",
       "      <td>Hyderabad</td>\n",
       "      <td>Exfinity Venture Partners</td>\n",
       "      <td>pre-series A</td>\n",
       "      <td>5,000,000</td>\n",
       "      <td>NaN</td>\n",
       "    </tr>\n",
       "    <tr>\n",
       "      <th>4</th>\n",
       "      <td>4</td>\n",
       "      <td>04/09/2019</td>\n",
       "      <td>75F</td>\n",
       "      <td>IoT</td>\n",
       "      <td>Building automation system</td>\n",
       "      <td>Burnsville</td>\n",
       "      <td>Breakthrough Energy Ventures</td>\n",
       "      <td>Series A</td>\n",
       "      <td>18,000,000</td>\n",
       "      <td>NaN</td>\n",
       "    </tr>\n",
       "  </tbody>\n",
       "</table>\n",
       "</div>"
      ],
      "text/plain": [
       "   Sr No Date ddmmyyyy      Startup Name       Industry Vertical  \\\n",
       "0      0    05/09/2019  FPL Technologies                 FinTech   \n",
       "1      1    04/09/2019           Cashflo                 FinTech   \n",
       "2      2    04/09/2019        Digital F5  Advertising, Marketing   \n",
       "3      3    04/09/2019           3rdFlix                    SaaS   \n",
       "4      4    04/09/2019               75F                     IoT   \n",
       "\n",
       "                                         SubVertical City  Location  \\\n",
       "0                                 Financial Services           Pune   \n",
       "1  Invoice discounting platform and SME lending m...         Mumbai   \n",
       "2                             Digital marketing firm         Mumbai   \n",
       "3                               Education Technology      Hyderabad   \n",
       "4                         Building automation system     Burnsville   \n",
       "\n",
       "                Investorsxe2x80x99 Name       InvestmentnType Amount in USD  \\\n",
       "0  Matrix Partners India, Sequoia India          Maiden Round     4,500,000   \n",
       "1                         SAIF Partners              Series A     3,300,000   \n",
       "2                    TIW Private Equity  Private Equity Round     6,000,000   \n",
       "3             Exfinity Venture Partners          pre-series A     5,000,000   \n",
       "4          Breakthrough Energy Ventures              Series A    18,000,000   \n",
       "\n",
       "  Remarks  \n",
       "0     NaN  \n",
       "1     NaN  \n",
       "2     NaN  \n",
       "3     NaN  \n",
       "4     NaN  "
      ]
     },
     "execution_count": 25,
     "metadata": {},
     "output_type": "execute_result"
    }
   ],
   "source": [
    "funding_data = pd.read_csv(\"./indian-startup-funding/startup_funding.csv\")\n",
    "funding_data.head()"
   ]
  },
  {
   "cell_type": "markdown",
   "metadata": {
    "_cell_guid": "3d7cdac1-3c19-4ac3-aa1b-bb35b2ff5b94",
    "_uuid": "d33449388d58838b65680c215c37ef41f2076675"
   },
   "source": [
    "### Column names of the table"
   ]
  },
  {
   "cell_type": "code",
   "execution_count": 26,
   "metadata": {
    "_cell_guid": "c083f5c0-77ec-43de-85e1-01163f36d4ed",
    "_kg_hide-input": true,
    "_uuid": "3964e5b68c96e208b54e61c1be99eaadf9463799"
   },
   "outputs": [
    {
     "data": {
      "text/plain": [
       "Index(['Sr No', 'Date ddmmyyyy', 'Startup Name', 'Industry Vertical',\n",
       "       'SubVertical', 'City  Location', 'Investorsxe2x80x99 Name',\n",
       "       'InvestmentnType', 'Amount in USD', 'Remarks'],\n",
       "      dtype='object')"
      ]
     },
     "execution_count": 26,
     "metadata": {},
     "output_type": "execute_result"
    }
   ],
   "source": [
    "funding_data.columns"
   ]
  },
  {
   "cell_type": "code",
   "execution_count": 27,
   "metadata": {
    "_cell_guid": "a798d9c5-2d3f-41b2-9c03-b18b534d8d53",
    "_kg_hide-input": true,
    "_uuid": "5ec241c25279d98762826435e47d64dd1a9eddcb"
   },
   "outputs": [
    {
     "name": "stdout",
     "output_type": "stream",
     "text": [
      "Size of data(Rows, Columns) (3009, 10)\n"
     ]
    }
   ],
   "source": [
    "print(\"Size of data(Rows, Columns)\",funding_data.shape)"
   ]
  },
  {
   "cell_type": "markdown",
   "metadata": {
    "_cell_guid": "b1743628-3339-46e7-9e33-0c59035e10fb",
    "_uuid": "06d3982c42aa2f861bef1d1223b4115dbf9254f5"
   },
   "source": [
    "**Lets see How much data is missing**"
   ]
  },
  {
   "cell_type": "code",
   "execution_count": 28,
   "metadata": {
    "_cell_guid": "66024c02-84dd-4d92-8d4d-ae25de1247ee",
    "_kg_hide-input": true,
    "_uuid": "8874816157eb7cf5e8793f4b72ea831c02ba6bf0"
   },
   "outputs": [
    {
     "data": {
      "text/html": [
       "<div>\n",
       "<style scoped>\n",
       "    .dataframe tbody tr th:only-of-type {\n",
       "        vertical-align: middle;\n",
       "    }\n",
       "\n",
       "    .dataframe tbody tr th {\n",
       "        vertical-align: top;\n",
       "    }\n",
       "\n",
       "    .dataframe thead th {\n",
       "        text-align: right;\n",
       "    }\n",
       "</style>\n",
       "<table border=\"1\" class=\"dataframe\">\n",
       "  <thead>\n",
       "    <tr style=\"text-align: right;\">\n",
       "      <th></th>\n",
       "      <th>Total</th>\n",
       "      <th>Percent %</th>\n",
       "    </tr>\n",
       "  </thead>\n",
       "  <tbody>\n",
       "    <tr>\n",
       "      <th>Remarks</th>\n",
       "      <td>2590</td>\n",
       "      <td>86.075108</td>\n",
       "    </tr>\n",
       "    <tr>\n",
       "      <th>Amount in USD</th>\n",
       "      <td>960</td>\n",
       "      <td>31.904287</td>\n",
       "    </tr>\n",
       "    <tr>\n",
       "      <th>SubVertical</th>\n",
       "      <td>936</td>\n",
       "      <td>31.106680</td>\n",
       "    </tr>\n",
       "    <tr>\n",
       "      <th>City  Location</th>\n",
       "      <td>180</td>\n",
       "      <td>5.982054</td>\n",
       "    </tr>\n",
       "    <tr>\n",
       "      <th>Industry Vertical</th>\n",
       "      <td>171</td>\n",
       "      <td>5.682951</td>\n",
       "    </tr>\n",
       "  </tbody>\n",
       "</table>\n",
       "</div>"
      ],
      "text/plain": [
       "                   Total  Percent %\n",
       "Remarks             2590  86.075108\n",
       "Amount in USD        960  31.904287\n",
       "SubVertical          936  31.106680\n",
       "City  Location       180   5.982054\n",
       "Industry Vertical    171   5.682951"
      ]
     },
     "execution_count": 28,
     "metadata": {},
     "output_type": "execute_result"
    }
   ],
   "source": [
    "# missing data \n",
    "total = funding_data.isnull().sum().sort_values(ascending = False)\n",
    "percent = ((funding_data.isnull().sum()/funding_data.isnull().count())*100).sort_values(ascending = False)\n",
    "missing_data = pd.concat([total, percent], axis=1, keys=['Total', 'Percent %'])\n",
    "missing_data.head()"
   ]
  },
  {
   "cell_type": "markdown",
   "metadata": {
    "_cell_guid": "003bce30-9579-4c18-85ce-576d0c6606a2",
    "_uuid": "d0733b4eeade02dc89ba00ac0c1b26652c1bfb61"
   },
   "source": [
    "Deleting \"**Remarks**\" from table and displaying remaining data"
   ]
  },
  {
   "cell_type": "code",
   "execution_count": 29,
   "metadata": {
    "_cell_guid": "6565a80e-8f39-4118-9a0d-d9f7369208f3",
    "_uuid": "0af6ac03945146576973c7c679f584d8314d6178"
   },
   "outputs": [
    {
     "data": {
      "text/html": [
       "<div>\n",
       "<style scoped>\n",
       "    .dataframe tbody tr th:only-of-type {\n",
       "        vertical-align: middle;\n",
       "    }\n",
       "\n",
       "    .dataframe tbody tr th {\n",
       "        vertical-align: top;\n",
       "    }\n",
       "\n",
       "    .dataframe thead th {\n",
       "        text-align: right;\n",
       "    }\n",
       "</style>\n",
       "<table border=\"1\" class=\"dataframe\">\n",
       "  <thead>\n",
       "    <tr style=\"text-align: right;\">\n",
       "      <th></th>\n",
       "      <th>Sr No</th>\n",
       "      <th>Date ddmmyyyy</th>\n",
       "      <th>Startup Name</th>\n",
       "      <th>Industry Vertical</th>\n",
       "      <th>SubVertical</th>\n",
       "      <th>City  Location</th>\n",
       "      <th>Investorsxe2x80x99 Name</th>\n",
       "      <th>InvestmentnType</th>\n",
       "      <th>Amount in USD</th>\n",
       "    </tr>\n",
       "  </thead>\n",
       "  <tbody>\n",
       "    <tr>\n",
       "      <th>0</th>\n",
       "      <td>0</td>\n",
       "      <td>05/09/2019</td>\n",
       "      <td>FPL Technologies</td>\n",
       "      <td>FinTech</td>\n",
       "      <td>Financial Services</td>\n",
       "      <td>Pune</td>\n",
       "      <td>Matrix Partners India, Sequoia India</td>\n",
       "      <td>Maiden Round</td>\n",
       "      <td>4,500,000</td>\n",
       "    </tr>\n",
       "    <tr>\n",
       "      <th>1</th>\n",
       "      <td>1</td>\n",
       "      <td>04/09/2019</td>\n",
       "      <td>Cashflo</td>\n",
       "      <td>FinTech</td>\n",
       "      <td>Invoice discounting platform and SME lending m...</td>\n",
       "      <td>Mumbai</td>\n",
       "      <td>SAIF Partners</td>\n",
       "      <td>Series A</td>\n",
       "      <td>3,300,000</td>\n",
       "    </tr>\n",
       "    <tr>\n",
       "      <th>2</th>\n",
       "      <td>2</td>\n",
       "      <td>04/09/2019</td>\n",
       "      <td>Digital F5</td>\n",
       "      <td>Advertising, Marketing</td>\n",
       "      <td>Digital marketing firm</td>\n",
       "      <td>Mumbai</td>\n",
       "      <td>TIW Private Equity</td>\n",
       "      <td>Private Equity Round</td>\n",
       "      <td>6,000,000</td>\n",
       "    </tr>\n",
       "    <tr>\n",
       "      <th>3</th>\n",
       "      <td>3</td>\n",
       "      <td>04/09/2019</td>\n",
       "      <td>3rdFlix</td>\n",
       "      <td>SaaS</td>\n",
       "      <td>Education Technology</td>\n",
       "      <td>Hyderabad</td>\n",
       "      <td>Exfinity Venture Partners</td>\n",
       "      <td>pre-series A</td>\n",
       "      <td>5,000,000</td>\n",
       "    </tr>\n",
       "    <tr>\n",
       "      <th>4</th>\n",
       "      <td>4</td>\n",
       "      <td>04/09/2019</td>\n",
       "      <td>75F</td>\n",
       "      <td>IoT</td>\n",
       "      <td>Building automation system</td>\n",
       "      <td>Burnsville</td>\n",
       "      <td>Breakthrough Energy Ventures</td>\n",
       "      <td>Series A</td>\n",
       "      <td>18,000,000</td>\n",
       "    </tr>\n",
       "  </tbody>\n",
       "</table>\n",
       "</div>"
      ],
      "text/plain": [
       "   Sr No Date ddmmyyyy      Startup Name       Industry Vertical  \\\n",
       "0      0    05/09/2019  FPL Technologies                 FinTech   \n",
       "1      1    04/09/2019           Cashflo                 FinTech   \n",
       "2      2    04/09/2019        Digital F5  Advertising, Marketing   \n",
       "3      3    04/09/2019           3rdFlix                    SaaS   \n",
       "4      4    04/09/2019               75F                     IoT   \n",
       "\n",
       "                                         SubVertical City  Location  \\\n",
       "0                                 Financial Services           Pune   \n",
       "1  Invoice discounting platform and SME lending m...         Mumbai   \n",
       "2                             Digital marketing firm         Mumbai   \n",
       "3                               Education Technology      Hyderabad   \n",
       "4                         Building automation system     Burnsville   \n",
       "\n",
       "                Investorsxe2x80x99 Name       InvestmentnType Amount in USD  \n",
       "0  Matrix Partners India, Sequoia India          Maiden Round     4,500,000  \n",
       "1                         SAIF Partners              Series A     3,300,000  \n",
       "2                    TIW Private Equity  Private Equity Round     6,000,000  \n",
       "3             Exfinity Venture Partners          pre-series A     5,000,000  \n",
       "4          Breakthrough Energy Ventures              Series A    18,000,000  "
      ]
     },
     "execution_count": 29,
     "metadata": {},
     "output_type": "execute_result"
    }
   ],
   "source": [
    "del funding_data[\"Remarks\"]\n",
    "funding_data.head()"
   ]
  },
  {
   "cell_type": "markdown",
   "metadata": {
    "_cell_guid": "8678fb95-e661-4a60-a181-5b2f41697f39",
    "_uuid": "26a692a56d883bd79ff927d40ccb59c8aeb589be"
   },
   "source": [
    "Now convert the string **\"AmountInUSD\" **into numeric"
   ]
  },
  {
   "cell_type": "code",
   "execution_count": 39,
   "metadata": {},
   "outputs": [
    {
     "data": {
      "text/plain": [
       "array(['4,500,000', '3,300,000', '6,000,000', '5,000,000', '18,000,000',\n",
       "       '10,00,000', '10,000,000', '450,000,000', '20,000,000',\n",
       "       '1,600,000', '140,000,000', '38,080,000', '125,000,000',\n",
       "       '11,000,000', '51,000,000', '37,000,000', '500,000', '110,000,000',\n",
       "       '15,000,000', '6,590,000', '0', '70,000,000', '3,900,000,000',\n",
       "       '19,000,000', '2,500,000', '145,000', '1,000,000', '150,000,000',\n",
       "       '60,000,000', '16,000,000', '5,750,000', '319,605', '5,10,00,000',\n",
       "       '1,00,00,000', '48,89,975.54', '90,00,000', '7,50,00,000',\n",
       "       '26,000,000', '25,00,000', '27,39,034.68', '1,51,09,500.00',\n",
       "       '4,30,200', '1,55,00,000', '5,20,00,000', '35,84,000', '3,400,000',\n",
       "       '868,600', '50,000,000', '14,00,00,000', '1,15,00,000',\n",
       "       '56,00,000', '45,000,000', '17,000,000', '430,665', '3,591,375',\n",
       "       '200,000', '3,500,000', '6,320,820', '2,443,495', '307,000',\n",
       "       '3,000,000', '14,342,000+', '226,000,000', '600,000',\n",
       "       '100,000,000', '22,000,000', '700,000', '800,000', '572,000',\n",
       "       '143,000', '2,000,000', '1,38,995', '27,799,000', '5,00,000',\n",
       "       '1,300,000', '300,000,000', '278,000', '31,000,000', '29,500,000',\n",
       "       '42,000,000', '1,700,000', nan, '8,200,000', '30,00,000',\n",
       "       '4,000,000', '14,680,000', '12,000,000', '35,000,000',\n",
       "       '225,000,000', '63,90,000', '15,72,00,000', '32,000,000',\n",
       "       '55,00,000', '30,000,000', '400,000', '7,000,000', '120,000',\n",
       "       '40,00,000', '12,200,000', '66,000,000', '8,000,000', '1,14,811',\n",
       "       '58,50,000', '48,00,000', '60,00,000', '1,42,70,000', '1,34,00000',\n",
       "       '42,00000', '50,00000', '30,00000', '60,00,00,000', '62,50,000',\n",
       "       '2,7700,000', '440,000', '1,100,000', '437,000', '180,000',\n",
       "       '175,000', '29,000,000', '4,97,00,000', '15,00,000',\n",
       "       '10,00,00,000', '1,500,000', '2,80,000', '4,36,000', '4,50,00,000',\n",
       "       '1,70,00,000', '12,50,000', '11,00,000', '1,10,00,000',\n",
       "       '120,000,000', '125,000', '23,000,000', '11,500,000',\n",
       "       '2,15,00,000', '1,480,0000', '1,01,00,000', '3,000,00', '4,50,000',\n",
       "       '3,450,000', '21,000,000', '17,00,000', '9,100,000', '200,000,000',\n",
       "       '89,50,000', '2,2000,000', '225,000', '949,000', '24,000,000',\n",
       "       '4200000', '300,000', '735,000', '293,000', '80,00000',\n",
       "       '14,000,000', '13,000,00', '307,600', '13,00,000', '5,50,00,000',\n",
       "       '150,000', '28,00,000', '1,000,000,', '46,140', '46,000,00',\n",
       "       '11,000,00', '19,00,000', '1,50,000', '2,20,00,000', '246,000',\n",
       "       '75,00,000', '978,000', '250,000', '2,100,000', '9,700,000',\n",
       "       '7,600,000', '38,400,000', '82,000,000', '1,72,00,000',\n",
       "       '6,20,00,000', '13,10,000', '768,000', '12,40,000', '5,35,000',\n",
       "       '4,300,000', '3,100,000', '6,830,000', '87,000,000', '935,089',\n",
       "       '311,200', '13,500,000', '100,000', '148,434', '6,230,000',\n",
       "       '3,800,000', '772,500', '1,040,000', '115,000,000', '1,400,000',\n",
       "       '15,700,000', '4,700,000', '1,930,000', '18,840,000', '23,500,000',\n",
       "       '36,230,000', '80,000', '354,600', '25,000,000', '18,200,000',\n",
       "       '3,200,000', '47,000,000', '8,600,000', '6,240,000', '7,400,000',\n",
       "       '4,400,000', '12,300,000', '750,000', '2,300,000', '50,000',\n",
       "       '1,200,000', '1,800,000', '17,500,000', '233,000', '27,000,000',\n",
       "       '7,200,000', '537,000', '2,700,000', '9,500,000', '19,500,000',\n",
       "       '570,000', '3,600,000', '872,000', '825,0000', '900,000',\n",
       "       '692,000', '329,230', '20,000,0000', '270,000,000', '39,000',\n",
       "       '13,000,000', '1,350,000', '306,000', '38,700,000', '450,000',\n",
       "       '9,200,000', '336,000', '235,000', '77,000,000', '7,700,000',\n",
       "       '118,000', '722,000', '550,000', '5,600,000', '10,750,000',\n",
       "       '25,000,0000', '780,000', '6,900,000', '6,200,000', '44,000,000',\n",
       "       '15,400,000', '422,000', '850,000', '243,000', '220,000',\n",
       "       '783,000', '2,500,000,000', '36,000,000', '312,000', '385,000',\n",
       "       '187,000', '6,800,000', '734,000', '80,000,000', '34,000,000',\n",
       "       '2,600,000', '8,500,000', '2,250,000', '464,000', '18,500,000',\n",
       "       '540,000', '1,250,000', '234,000', '650,000', '232,000', '350,000',\n",
       "       '7,800,000', '776,000', '5,500,000', '12,500,000', '5,200,000',\n",
       "       '2,400,000', '215,000', '4,600,000', '71,000,000', '311,000',\n",
       "       '73,700,000', '390,000', '104,500,000', '466,000', '5,300,000',\n",
       "       '1,400,000,000', '6,600,000', '580,000', '40,000,000', '6,100,000',\n",
       "       '3,690,000', '260,000,000', '310,000', '620,000', '4,650,000',\n",
       "       '155,000', '6,300,000', '250,000,000', '245,000', '330,000,000',\n",
       "       '275,000', '6,700,000', '1,790,000', '30,000', '3,650,000',\n",
       "       '443,000', '3,350,000', '3,670,000', '191,000', '56,000,000',\n",
       "       '382,000', '325,000', '55,000,000', '40,000', '5,800,000',\n",
       "       '7,500,000', '330,000', '22,400,000', '6,500,000', '15,200,000',\n",
       "       '375,000', '94,000', '366,000', '825,000', '57,000,000',\n",
       "       '4,100,000', '441,000', '147,000', '2,200,000', '8,800,000',\n",
       "       '106,000', '22,500', '68,000', '18,000', '9,000,000', '11,100,000',\n",
       "       '297,000', '123,000', '162,000', '324,000', '45,000', '75,000,000',\n",
       "       '90,000', '963,000', '218,000', '4,200,000', '3,750,000',\n",
       "       '1,050,000', '25,000', '227,000', '971,000', '315,000', '670,000',\n",
       "       '448,000', '31,300,000', '298,000', '425,000', '745,000',\n",
       "       '1,580,000', '890,000', '27,000', '445,000', '209,000',\n",
       "       '15,600,000', '62,000,000', '175,000,000', '675,000', '149,000',\n",
       "       '104,000', '740,000', '1,950,000', '12,250,000', '1,070,000',\n",
       "       '595,000', '75,000', '210,000', '148,000', '295,000', '368,000',\n",
       "       '376,000', '2,750,000', '89,000', '475,000', '8,900,000',\n",
       "       '223,608', '14,900,000', '230,000', '108,000', '360,000', '81,000',\n",
       "       '52,000', '970,000', '73,000', '37,000', '160,000', '70,000',\n",
       "       '180,000,000', '5,400,000', '16,500,000', '145,000,000', '240,000',\n",
       "       '520,000', '515,000', '370,000', '185,000', '5,150,000',\n",
       "       '7,000,0000', '22,500,000', '303,000', '320,000', '16,600,000',\n",
       "       '460,000', '490,000', '1,900,000', '3,700,000', '530,000',\n",
       "       '500,000,000', '455,000', '305,000', '52,000,000', '110,000',\n",
       "       '13,400,000', '1,450,000', '77,000', '190,000', '2,950,000',\n",
       "       '1,530,000', '640,000', '130,000', '260,000', '205,000', '770,000',\n",
       "       '4,250,000', '410,000', '1,150,000', '37,500,000', '1,750,000',\n",
       "       '680,000,000', '9,600,000', '785,000', '90,000,000', '630,000',\n",
       "       '63,000,000', '156,000', '161,000', '395,000', '20,000', '470,000',\n",
       "       '10,200,000', '\\\\\\\\xc2\\\\\\\\xa020,000,000',\n",
       "       '\\\\\\\\xc2\\\\\\\\xa016,200,000', '\\\\\\\\xc2\\\\\\\\xa0N/A',\n",
       "       '\\\\\\\\xc2\\\\\\\\xa0600,000', '\\\\\\\\xc2\\\\\\\\xa0685,000',\n",
       "       '\\\\\\\\xc2\\\\\\\\xa019,350,000', '\\\\\\\\xc2\\\\\\\\xa05,000,000',\n",
       "       '\\\\\\\\xc2\\\\\\\\xa010,000,000', '790,000', '4,850,000', '12,750,000',\n",
       "       '700,000,000', '168,000', '137,000,000', '140,000', '85,000,000',\n",
       "       '270,000', '625,000', '165,000', '400,000,000', '28,000,000',\n",
       "       '21,500,000', '166,000', '2,800,000', '115,000', '16,600',\n",
       "       '518,000', '4,150,000', '290,000', '2,150,000', '380,000',\n",
       "       '135,000', '285,000', '30,768', '16,000', '14,750,000',\n",
       "       '3,250,000'], dtype=object)"
      ]
     },
     "execution_count": 39,
     "metadata": {},
     "output_type": "execute_result"
    }
   ],
   "source": [
    "funding_data[\"Amount in USD\"].unique()"
   ]
  },
  {
   "cell_type": "code",
   "execution_count": 30,
   "metadata": {},
   "outputs": [],
   "source": [
    "#funding_data[\"Amount in USD\"].unique()\n",
    "funding_data[\"Amount in USD\"][funding_data[\"Amount in USD\"].str.contains('undisclosed', flags=re.IGNORECASE, regex=True, na = False)] = '0'"
   ]
  },
  {
   "cell_type": "code",
   "execution_count": 48,
   "metadata": {
    "_cell_guid": "408bf71d-737d-4f23-a27f-adf6927f0d42",
    "_uuid": "a1942e8c3c13af4b030e816f130067df0fb4b883"
   },
   "outputs": [
    {
     "data": {
      "text/html": [
       "<div>\n",
       "<style scoped>\n",
       "    .dataframe tbody tr th:only-of-type {\n",
       "        vertical-align: middle;\n",
       "    }\n",
       "\n",
       "    .dataframe tbody tr th {\n",
       "        vertical-align: top;\n",
       "    }\n",
       "\n",
       "    .dataframe thead th {\n",
       "        text-align: right;\n",
       "    }\n",
       "</style>\n",
       "<table border=\"1\" class=\"dataframe\">\n",
       "  <thead>\n",
       "    <tr style=\"text-align: right;\">\n",
       "      <th></th>\n",
       "      <th>Sr No</th>\n",
       "      <th>Date ddmmyyyy</th>\n",
       "      <th>Startup Name</th>\n",
       "      <th>Industry Vertical</th>\n",
       "      <th>SubVertical</th>\n",
       "      <th>City  Location</th>\n",
       "      <th>Investorsxe2x80x99 Name</th>\n",
       "      <th>InvestmentnType</th>\n",
       "      <th>Amount in USD</th>\n",
       "    </tr>\n",
       "  </thead>\n",
       "  <tbody>\n",
       "    <tr>\n",
       "      <th>0</th>\n",
       "      <td>0</td>\n",
       "      <td>05/09/2019</td>\n",
       "      <td>FPL Technologies</td>\n",
       "      <td>FinTech</td>\n",
       "      <td>Financial Services</td>\n",
       "      <td>Pune</td>\n",
       "      <td>Matrix Partners India, Sequoia India</td>\n",
       "      <td>Maiden Round</td>\n",
       "      <td>4500000.0</td>\n",
       "    </tr>\n",
       "    <tr>\n",
       "      <th>1</th>\n",
       "      <td>1</td>\n",
       "      <td>04/09/2019</td>\n",
       "      <td>Cashflo</td>\n",
       "      <td>FinTech</td>\n",
       "      <td>Invoice discounting platform and SME lending m...</td>\n",
       "      <td>Mumbai</td>\n",
       "      <td>SAIF Partners</td>\n",
       "      <td>Series A</td>\n",
       "      <td>3300000.0</td>\n",
       "    </tr>\n",
       "    <tr>\n",
       "      <th>2</th>\n",
       "      <td>2</td>\n",
       "      <td>04/09/2019</td>\n",
       "      <td>Digital F5</td>\n",
       "      <td>Advertising, Marketing</td>\n",
       "      <td>Digital marketing firm</td>\n",
       "      <td>Mumbai</td>\n",
       "      <td>TIW Private Equity</td>\n",
       "      <td>Private Equity Round</td>\n",
       "      <td>6000000.0</td>\n",
       "    </tr>\n",
       "    <tr>\n",
       "      <th>3</th>\n",
       "      <td>3</td>\n",
       "      <td>04/09/2019</td>\n",
       "      <td>3rdFlix</td>\n",
       "      <td>SaaS</td>\n",
       "      <td>Education Technology</td>\n",
       "      <td>Hyderabad</td>\n",
       "      <td>Exfinity Venture Partners</td>\n",
       "      <td>pre-series A</td>\n",
       "      <td>5000000.0</td>\n",
       "    </tr>\n",
       "    <tr>\n",
       "      <th>4</th>\n",
       "      <td>4</td>\n",
       "      <td>04/09/2019</td>\n",
       "      <td>75F</td>\n",
       "      <td>IoT</td>\n",
       "      <td>Building automation system</td>\n",
       "      <td>Burnsville</td>\n",
       "      <td>Breakthrough Energy Ventures</td>\n",
       "      <td>Series A</td>\n",
       "      <td>18000000.0</td>\n",
       "    </tr>\n",
       "  </tbody>\n",
       "</table>\n",
       "</div>"
      ],
      "text/plain": [
       "   Sr No Date ddmmyyyy      Startup Name       Industry Vertical  \\\n",
       "0      0    05/09/2019  FPL Technologies                 FinTech   \n",
       "1      1    04/09/2019           Cashflo                 FinTech   \n",
       "2      2    04/09/2019        Digital F5  Advertising, Marketing   \n",
       "3      3    04/09/2019           3rdFlix                    SaaS   \n",
       "4      4    04/09/2019               75F                     IoT   \n",
       "\n",
       "                                         SubVertical City  Location  \\\n",
       "0                                 Financial Services           Pune   \n",
       "1  Invoice discounting platform and SME lending m...         Mumbai   \n",
       "2                             Digital marketing firm         Mumbai   \n",
       "3                               Education Technology      Hyderabad   \n",
       "4                         Building automation system     Burnsville   \n",
       "\n",
       "                Investorsxe2x80x99 Name       InvestmentnType  Amount in USD  \n",
       "0  Matrix Partners India, Sequoia India          Maiden Round      4500000.0  \n",
       "1                         SAIF Partners              Series A      3300000.0  \n",
       "2                    TIW Private Equity  Private Equity Round      6000000.0  \n",
       "3             Exfinity Venture Partners          pre-series A      5000000.0  \n",
       "4          Breakthrough Energy Ventures              Series A     18000000.0  "
      ]
     },
     "execution_count": 48,
     "metadata": {},
     "output_type": "execute_result"
    }
   ],
   "source": [
    "funding_data[\"Amount in USD\"] = funding_data[\"Amount in USD\"].apply(lambda x: re.sub('\\D+','',str(x)))\n",
    "#funding_data[\"Amount in USD\"] = funding_data[\"Amount in USD\"].apply(lambda x: float(str(x).replace(\",\",\"\")))\n",
    "funding_data[\"Amount in USD\"] = pd.to_numeric(funding_data[\"Amount in USD\"])\n",
    "funding_data.head()"
   ]
  },
  {
   "cell_type": "markdown",
   "metadata": {
    "_cell_guid": "48506379-e6a8-4a39-bbe8-61b04630f67f",
    "_uuid": "f781982bb0cd9c81692e4e0223c01034156c8d6c"
   },
   "source": [
    "## Ques 1:  How does the funding ecosystem change with time ?(Number of funding per month)"
   ]
  },
  {
   "cell_type": "code",
   "execution_count": 53,
   "metadata": {},
   "outputs": [
    {
     "data": {
      "text/plain": [
       "4"
      ]
     },
     "execution_count": 53,
     "metadata": {},
     "output_type": "execute_result"
    }
   ],
   "source": [
    "funding_data['Date ddmmyyyy'].str.contains('\\.', regex = True).sum()"
   ]
  },
  {
   "cell_type": "code",
   "execution_count": 49,
   "metadata": {
    "_cell_guid": "6d3ef18c-5e4a-4565-a519-5e414554b072",
    "_uuid": "f2a5f42840b7d0d6c4f83400bf624a37bdf094a9"
   },
   "outputs": [
    {
     "ename": "KeyError",
     "evalue": "'Date'",
     "output_type": "error",
     "traceback": [
      "\u001b[1;31m---------------------------------------------------------------------------\u001b[0m",
      "\u001b[1;31mKeyError\u001b[0m                                  Traceback (most recent call last)",
      "\u001b[1;32m~\\Anaconda3\\lib\\site-packages\\pandas\\core\\indexes\\base.py\u001b[0m in \u001b[0;36mget_loc\u001b[1;34m(self, key, method, tolerance)\u001b[0m\n\u001b[0;32m   2896\u001b[0m             \u001b[1;32mtry\u001b[0m\u001b[1;33m:\u001b[0m\u001b[1;33m\u001b[0m\u001b[1;33m\u001b[0m\u001b[0m\n\u001b[1;32m-> 2897\u001b[1;33m                 \u001b[1;32mreturn\u001b[0m \u001b[0mself\u001b[0m\u001b[1;33m.\u001b[0m\u001b[0m_engine\u001b[0m\u001b[1;33m.\u001b[0m\u001b[0mget_loc\u001b[0m\u001b[1;33m(\u001b[0m\u001b[0mkey\u001b[0m\u001b[1;33m)\u001b[0m\u001b[1;33m\u001b[0m\u001b[1;33m\u001b[0m\u001b[0m\n\u001b[0m\u001b[0;32m   2898\u001b[0m             \u001b[1;32mexcept\u001b[0m \u001b[0mKeyError\u001b[0m\u001b[1;33m:\u001b[0m\u001b[1;33m\u001b[0m\u001b[1;33m\u001b[0m\u001b[0m\n",
      "\u001b[1;32mpandas/_libs/index.pyx\u001b[0m in \u001b[0;36mpandas._libs.index.IndexEngine.get_loc\u001b[1;34m()\u001b[0m\n",
      "\u001b[1;32mpandas/_libs/index.pyx\u001b[0m in \u001b[0;36mpandas._libs.index.IndexEngine.get_loc\u001b[1;34m()\u001b[0m\n",
      "\u001b[1;32mpandas/_libs/hashtable_class_helper.pxi\u001b[0m in \u001b[0;36mpandas._libs.hashtable.PyObjectHashTable.get_item\u001b[1;34m()\u001b[0m\n",
      "\u001b[1;32mpandas/_libs/hashtable_class_helper.pxi\u001b[0m in \u001b[0;36mpandas._libs.hashtable.PyObjectHashTable.get_item\u001b[1;34m()\u001b[0m\n",
      "\u001b[1;31mKeyError\u001b[0m: 'Date'",
      "\nDuring handling of the above exception, another exception occurred:\n",
      "\u001b[1;31mKeyError\u001b[0m                                  Traceback (most recent call last)",
      "\u001b[1;32m<ipython-input-49-8e910e93c9cb>\u001b[0m in \u001b[0;36m<module>\u001b[1;34m\u001b[0m\n\u001b[0;32m      1\u001b[0m \u001b[1;31m### Some more fixes in the data format. Will try to fix in the input file in next version #\u001b[0m\u001b[1;33m\u001b[0m\u001b[1;33m\u001b[0m\u001b[1;33m\u001b[0m\u001b[0m\n\u001b[1;32m----> 2\u001b[1;33m \u001b[0mfunding_data\u001b[0m\u001b[1;33m[\u001b[0m\u001b[1;34m'Date'\u001b[0m\u001b[1;33m]\u001b[0m\u001b[1;33m[\u001b[0m\u001b[0mfunding_data\u001b[0m\u001b[1;33m[\u001b[0m\u001b[1;34m'Date'\u001b[0m\u001b[1;33m]\u001b[0m\u001b[1;33m==\u001b[0m\u001b[1;34m'12/05.2015'\u001b[0m\u001b[1;33m]\u001b[0m \u001b[1;33m=\u001b[0m \u001b[1;34m'12/05/2015'\u001b[0m\u001b[1;33m\u001b[0m\u001b[1;33m\u001b[0m\u001b[0m\n\u001b[0m\u001b[0;32m      3\u001b[0m \u001b[0mfunding_data\u001b[0m\u001b[1;33m[\u001b[0m\u001b[1;34m'Date'\u001b[0m\u001b[1;33m]\u001b[0m\u001b[1;33m[\u001b[0m\u001b[0mfunding_data\u001b[0m\u001b[1;33m[\u001b[0m\u001b[1;34m'Date'\u001b[0m\u001b[1;33m]\u001b[0m\u001b[1;33m==\u001b[0m\u001b[1;34m'13/04.2015'\u001b[0m\u001b[1;33m]\u001b[0m \u001b[1;33m=\u001b[0m \u001b[1;34m'13/04/2015'\u001b[0m\u001b[1;33m\u001b[0m\u001b[1;33m\u001b[0m\u001b[0m\n\u001b[0;32m      4\u001b[0m \u001b[0mfunding_data\u001b[0m\u001b[1;33m[\u001b[0m\u001b[1;34m'Date'\u001b[0m\u001b[1;33m]\u001b[0m\u001b[1;33m[\u001b[0m\u001b[0mfunding_data\u001b[0m\u001b[1;33m[\u001b[0m\u001b[1;34m'Date'\u001b[0m\u001b[1;33m]\u001b[0m\u001b[1;33m==\u001b[0m\u001b[1;34m'15/01.2015'\u001b[0m\u001b[1;33m]\u001b[0m \u001b[1;33m=\u001b[0m \u001b[1;34m'15/01/2015'\u001b[0m\u001b[1;33m\u001b[0m\u001b[1;33m\u001b[0m\u001b[0m\n\u001b[0;32m      5\u001b[0m \u001b[0mfunding_data\u001b[0m\u001b[1;33m[\u001b[0m\u001b[1;34m'Date'\u001b[0m\u001b[1;33m]\u001b[0m\u001b[1;33m[\u001b[0m\u001b[0mfunding_data\u001b[0m\u001b[1;33m[\u001b[0m\u001b[1;34m'Date'\u001b[0m\u001b[1;33m]\u001b[0m\u001b[1;33m==\u001b[0m\u001b[1;34m'22/01//2015'\u001b[0m\u001b[1;33m]\u001b[0m \u001b[1;33m=\u001b[0m \u001b[1;34m'22/01/2015'\u001b[0m\u001b[1;33m\u001b[0m\u001b[1;33m\u001b[0m\u001b[0m\n",
      "\u001b[1;32m~\\Anaconda3\\lib\\site-packages\\pandas\\core\\frame.py\u001b[0m in \u001b[0;36m__getitem__\u001b[1;34m(self, key)\u001b[0m\n\u001b[0;32m   2993\u001b[0m             \u001b[1;32mif\u001b[0m \u001b[0mself\u001b[0m\u001b[1;33m.\u001b[0m\u001b[0mcolumns\u001b[0m\u001b[1;33m.\u001b[0m\u001b[0mnlevels\u001b[0m \u001b[1;33m>\u001b[0m \u001b[1;36m1\u001b[0m\u001b[1;33m:\u001b[0m\u001b[1;33m\u001b[0m\u001b[1;33m\u001b[0m\u001b[0m\n\u001b[0;32m   2994\u001b[0m                 \u001b[1;32mreturn\u001b[0m \u001b[0mself\u001b[0m\u001b[1;33m.\u001b[0m\u001b[0m_getitem_multilevel\u001b[0m\u001b[1;33m(\u001b[0m\u001b[0mkey\u001b[0m\u001b[1;33m)\u001b[0m\u001b[1;33m\u001b[0m\u001b[1;33m\u001b[0m\u001b[0m\n\u001b[1;32m-> 2995\u001b[1;33m             \u001b[0mindexer\u001b[0m \u001b[1;33m=\u001b[0m \u001b[0mself\u001b[0m\u001b[1;33m.\u001b[0m\u001b[0mcolumns\u001b[0m\u001b[1;33m.\u001b[0m\u001b[0mget_loc\u001b[0m\u001b[1;33m(\u001b[0m\u001b[0mkey\u001b[0m\u001b[1;33m)\u001b[0m\u001b[1;33m\u001b[0m\u001b[1;33m\u001b[0m\u001b[0m\n\u001b[0m\u001b[0;32m   2996\u001b[0m             \u001b[1;32mif\u001b[0m \u001b[0mis_integer\u001b[0m\u001b[1;33m(\u001b[0m\u001b[0mindexer\u001b[0m\u001b[1;33m)\u001b[0m\u001b[1;33m:\u001b[0m\u001b[1;33m\u001b[0m\u001b[1;33m\u001b[0m\u001b[0m\n\u001b[0;32m   2997\u001b[0m                 \u001b[0mindexer\u001b[0m \u001b[1;33m=\u001b[0m \u001b[1;33m[\u001b[0m\u001b[0mindexer\u001b[0m\u001b[1;33m]\u001b[0m\u001b[1;33m\u001b[0m\u001b[1;33m\u001b[0m\u001b[0m\n",
      "\u001b[1;32m~\\Anaconda3\\lib\\site-packages\\pandas\\core\\indexes\\base.py\u001b[0m in \u001b[0;36mget_loc\u001b[1;34m(self, key, method, tolerance)\u001b[0m\n\u001b[0;32m   2897\u001b[0m                 \u001b[1;32mreturn\u001b[0m \u001b[0mself\u001b[0m\u001b[1;33m.\u001b[0m\u001b[0m_engine\u001b[0m\u001b[1;33m.\u001b[0m\u001b[0mget_loc\u001b[0m\u001b[1;33m(\u001b[0m\u001b[0mkey\u001b[0m\u001b[1;33m)\u001b[0m\u001b[1;33m\u001b[0m\u001b[1;33m\u001b[0m\u001b[0m\n\u001b[0;32m   2898\u001b[0m             \u001b[1;32mexcept\u001b[0m \u001b[0mKeyError\u001b[0m\u001b[1;33m:\u001b[0m\u001b[1;33m\u001b[0m\u001b[1;33m\u001b[0m\u001b[0m\n\u001b[1;32m-> 2899\u001b[1;33m                 \u001b[1;32mreturn\u001b[0m \u001b[0mself\u001b[0m\u001b[1;33m.\u001b[0m\u001b[0m_engine\u001b[0m\u001b[1;33m.\u001b[0m\u001b[0mget_loc\u001b[0m\u001b[1;33m(\u001b[0m\u001b[0mself\u001b[0m\u001b[1;33m.\u001b[0m\u001b[0m_maybe_cast_indexer\u001b[0m\u001b[1;33m(\u001b[0m\u001b[0mkey\u001b[0m\u001b[1;33m)\u001b[0m\u001b[1;33m)\u001b[0m\u001b[1;33m\u001b[0m\u001b[1;33m\u001b[0m\u001b[0m\n\u001b[0m\u001b[0;32m   2900\u001b[0m         \u001b[0mindexer\u001b[0m \u001b[1;33m=\u001b[0m \u001b[0mself\u001b[0m\u001b[1;33m.\u001b[0m\u001b[0mget_indexer\u001b[0m\u001b[1;33m(\u001b[0m\u001b[1;33m[\u001b[0m\u001b[0mkey\u001b[0m\u001b[1;33m]\u001b[0m\u001b[1;33m,\u001b[0m \u001b[0mmethod\u001b[0m\u001b[1;33m=\u001b[0m\u001b[0mmethod\u001b[0m\u001b[1;33m,\u001b[0m \u001b[0mtolerance\u001b[0m\u001b[1;33m=\u001b[0m\u001b[0mtolerance\u001b[0m\u001b[1;33m)\u001b[0m\u001b[1;33m\u001b[0m\u001b[1;33m\u001b[0m\u001b[0m\n\u001b[0;32m   2901\u001b[0m         \u001b[1;32mif\u001b[0m \u001b[0mindexer\u001b[0m\u001b[1;33m.\u001b[0m\u001b[0mndim\u001b[0m \u001b[1;33m>\u001b[0m \u001b[1;36m1\u001b[0m \u001b[1;32mor\u001b[0m \u001b[0mindexer\u001b[0m\u001b[1;33m.\u001b[0m\u001b[0msize\u001b[0m \u001b[1;33m>\u001b[0m \u001b[1;36m1\u001b[0m\u001b[1;33m:\u001b[0m\u001b[1;33m\u001b[0m\u001b[1;33m\u001b[0m\u001b[0m\n",
      "\u001b[1;32mpandas/_libs/index.pyx\u001b[0m in \u001b[0;36mpandas._libs.index.IndexEngine.get_loc\u001b[1;34m()\u001b[0m\n",
      "\u001b[1;32mpandas/_libs/index.pyx\u001b[0m in \u001b[0;36mpandas._libs.index.IndexEngine.get_loc\u001b[1;34m()\u001b[0m\n",
      "\u001b[1;32mpandas/_libs/hashtable_class_helper.pxi\u001b[0m in \u001b[0;36mpandas._libs.hashtable.PyObjectHashTable.get_item\u001b[1;34m()\u001b[0m\n",
      "\u001b[1;32mpandas/_libs/hashtable_class_helper.pxi\u001b[0m in \u001b[0;36mpandas._libs.hashtable.PyObjectHashTable.get_item\u001b[1;34m()\u001b[0m\n",
      "\u001b[1;31mKeyError\u001b[0m: 'Date'"
     ]
    }
   ],
   "source": [
    "### Some more fixes in the data format. Will try to fix in the input file in next version #\n",
    "funding_data['Date ddmmyyyy'][funding_data['Date ddmmyyyy']=='12/05.2015'] = '12/05/2015'\n",
    "funding_data['Date'][funding_data['Date']=='13/04.2015'] = '13/04/2015'\n",
    "funding_data['Date'][funding_data['Date']=='15/01.2015'] = '15/01/2015'\n",
    "funding_data['Date'][funding_data['Date']=='22/01//2015'] = '22/01/2015'\n",
    "funding_data[\"yearmonth\"] = (pd.to_datetime(funding_data['Date'],format='%d/%m/%Y').dt.year*100)+(pd.to_datetime(funding_data['Date'],format='%d/%m/%Y').dt.month)\n",
    "temp = funding_data['yearmonth'].value_counts().sort_values(ascending = False).head(10)\n",
    "print(\"Number of funding per month in decreasing order(Top 10)\\n\",temp)"
   ]
  },
  {
   "cell_type": "code",
   "execution_count": null,
   "metadata": {},
   "outputs": [],
   "source": [
    "year_month = funding_data['yearmonth'].value_counts()\n",
    "plt.figure(figsize=(15,8))\n",
    "sns.barplot(year_month.index, year_month.values, alpha=0.9, color=color[0])\n",
    "plt.xticks(rotation='vertical')\n",
    "plt.xlabel('Year-Month of transaction', fontsize=12)\n",
    "plt.ylabel('Number of fundings made', fontsize=12)\n",
    "plt.title(\"Year-Month Distribution\", fontsize=16)\n",
    "plt.show()"
   ]
  },
  {
   "cell_type": "markdown",
   "metadata": {
    "_cell_guid": "a184eee1-c708-44ed-b2d9-7e10340041ce",
    "_uuid": "4c791985afd7adb1822c56398bb5cd9b817b0e75"
   },
   "source": [
    "As we can see that startups got more funding in **January 2016**(Total funding in January 2016 are 104). Above visualization shows how funding\n",
    "varies from one month to another."
   ]
  },
  {
   "cell_type": "markdown",
   "metadata": {
    "_cell_guid": "158989b9-b5b1-4232-a821-146ec9fa01bf",
    "_uuid": "5646ddbf34fd5bec3a0adb2c59a5b28454fee936"
   },
   "source": [
    "## Ques 2 : How much funds does startups generally get in India ?(maximum funding, minimum funding , average funding and number of fundings)\n"
   ]
  },
  {
   "cell_type": "code",
   "execution_count": null,
   "metadata": {
    "_cell_guid": "bae953e2-71fa-4439-913a-85c1990acdfa",
    "_uuid": "3c43096475ec26b3f4a52861a51d52ba7f7a4d89",
    "collapsed": true,
    "jupyter": {
     "outputs_hidden": true
    }
   },
   "outputs": [],
   "source": [
    "print(\"Maximum funding to a Startups is : \",funding_data[\"AmountInUSD\"].dropna().sort_values().max())"
   ]
  },
  {
   "cell_type": "code",
   "execution_count": null,
   "metadata": {
    "_cell_guid": "23709bad-aca3-4844-858d-0c6a0a534b49",
    "_uuid": "3e2ab2333aca5b0d84fd42b2a7a957e9962dc83d",
    "collapsed": true,
    "jupyter": {
     "outputs_hidden": true
    }
   },
   "outputs": [],
   "source": [
    "funding_data[funding_data.AmountInUSD == 1400000000.0]"
   ]
  },
  {
   "cell_type": "code",
   "execution_count": null,
   "metadata": {
    "_cell_guid": "df985f3a-03a6-4399-be90-16df2747adc3",
    "_uuid": "f303fbacd25bb209fa5aded30467a47ce886223c",
    "collapsed": true,
    "jupyter": {
     "outputs_hidden": true
    }
   },
   "outputs": [],
   "source": [
    "funding_data[funding_data.StartupName == 'Paytm']"
   ]
  },
  {
   "cell_type": "markdown",
   "metadata": {
    "_cell_guid": "5f35ebd4-ff63-4895-94f3-d10a11ef1e57",
    "_uuid": "9914372237a6c4ccfc7ff0361c89d9bd83e01ec8"
   },
   "source": [
    "As we can see** Paytm** and **Flipkart** got maximum funding of  1400000000 USD. Now lats see least funding."
   ]
  },
  {
   "cell_type": "code",
   "execution_count": null,
   "metadata": {
    "_cell_guid": "534ab547-4b5e-4bb2-98be-edfc528220f0",
    "_uuid": "aa2fe8212150c3793ab97ab4377df655a113b351",
    "collapsed": true,
    "jupyter": {
     "outputs_hidden": true
    }
   },
   "outputs": [],
   "source": [
    "print(\"Minimum funding to a Startups is : \",funding_data[\"AmountInUSD\"].dropna().sort_values().min())"
   ]
  },
  {
   "cell_type": "code",
   "execution_count": null,
   "metadata": {
    "_cell_guid": "694af282-864e-4e1d-9387-cb669776700c",
    "_uuid": "886d062c4fcc7715e03aae9fc40123c920107c9e",
    "collapsed": true,
    "jupyter": {
     "outputs_hidden": true
    }
   },
   "outputs": [],
   "source": [
    "funding_data[funding_data.AmountInUSD == 16000.0]"
   ]
  },
  {
   "cell_type": "markdown",
   "metadata": {
    "_cell_guid": "43665626-66ec-43b7-82c7-e4a11b649eaa",
    "_uuid": "ee8185ed99b23720eb6cf5b50fa2ace3340a9e07"
   },
   "source": [
    "Now as we can see **Hostel Dunia, Play your sport, Yo Grad, Enabli and CBS** are least funded Startups i.e, 16000 USD"
   ]
  },
  {
   "cell_type": "code",
   "execution_count": null,
   "metadata": {
    "_cell_guid": "fb2b896c-51ea-47cd-8454-4e1c801b6317",
    "_uuid": "1409cd4d12f0f9ac9cbeee98408768173926c19f",
    "collapsed": true,
    "jupyter": {
     "outputs_hidden": true
    }
   },
   "outputs": [],
   "source": [
    "print(\"On Average indian startups got funding of : \",funding_data[\"AmountInUSD\"].dropna().sort_values().mean())"
   ]
  },
  {
   "cell_type": "markdown",
   "metadata": {
    "_cell_guid": "fb6f4184-51b1-43ed-b5c4-5176e7746b25",
    "_uuid": "bf85c7d225c3bbb17881ac895dc92d8693e4da73"
   },
   "source": [
    "On an Average indian startups got funding of :  12031073.099016393"
   ]
  },
  {
   "cell_type": "code",
   "execution_count": null,
   "metadata": {
    "_cell_guid": "cd9f799f-fe96-4da7-bf1a-71bbbce38424",
    "_uuid": "371def7f339daffa203b54df92933201d857d3ff",
    "collapsed": true,
    "jupyter": {
     "outputs_hidden": true
    }
   },
   "outputs": [],
   "source": [
    "print(\"Total startups funded : \", len(funding_data[\"StartupName\"].unique()))\n",
    "print(funding_data[\"StartupName\"].value_counts().head(10))\n",
    "startupname = funding_data['StartupName'].value_counts().head(20)\n",
    "plt.figure(figsize=(15,8))\n",
    "sns.barplot(startupname.index, startupname.values, alpha=0.9, color=color[0])\n",
    "plt.xticks(rotation='vertical')\n",
    "plt.xlabel('Startup Name', fontsize=12)\n",
    "plt.ylabel('Number of fundings made', fontsize=12)\n",
    "plt.title(\"Number of funding a startup got\", fontsize=16)\n",
    "plt.show()"
   ]
  },
  {
   "cell_type": "markdown",
   "metadata": {
    "_cell_guid": "6443f3a0-bdbc-47a4-b2bb-1c09692198f2",
    "_uuid": "de1a334295c9bcf37d65634e09d621c7585394a2"
   },
   "source": [
    "As we can see that **Swiggy** got maximum number of fundings(Total funding = 7) and total there are 2001 indian startups funded from January 2015 to August 2017. The above visulization is only for Top 20 startups."
   ]
  },
  {
   "cell_type": "markdown",
   "metadata": {
    "_cell_guid": "f078cf65-a85b-400a-ab4a-191a8c16d87e",
    "_uuid": "dc7c94d680966415b83ce2a85684fd72062a3f92"
   },
   "source": [
    "## Ques 3 :  Which industries are favored by investors for funding ? (OR) Which type of companies got more easily funding ?"
   ]
  },
  {
   "cell_type": "code",
   "execution_count": null,
   "metadata": {
    "_cell_guid": "0e86dbe0-6b15-4dfa-add0-acb12534fd3d",
    "_uuid": "48f09fe07e8a777f72aaf603f68eaf6d2235310f",
    "collapsed": true,
    "jupyter": {
     "outputs_hidden": true
    }
   },
   "outputs": [],
   "source": [
    "industry = funding_data['IndustryVertical'].value_counts().head(10)\n",
    "print(industry)\n",
    "plt.figure(figsize=(15,8))\n",
    "sns.barplot(industry.index, industry.values, alpha=0.9, color=color[0])\n",
    "plt.xticks(rotation='vertical')\n",
    "plt.xlabel('Industry vertical of startups', fontsize=12)\n",
    "plt.ylabel('Number of fundings made', fontsize=12)\n",
    "plt.title(\"Industry vertical of startups with number of funding\", fontsize=16)\n",
    "plt.show()"
   ]
  },
  {
   "cell_type": "markdown",
   "metadata": {
    "_cell_guid": "668fe5bc-dd4f-4595-974e-1fe6d722d4de",
    "_uuid": "7117c1714c52d1fbfa973c94b8fca46d93e00723"
   },
   "source": [
    "If we see Above **\"Consumer Internet\" **got maximum number of funding = 772 followed by technology and E-Commerce."
   ]
  },
  {
   "cell_type": "code",
   "execution_count": null,
   "metadata": {
    "_cell_guid": "fe7858d4-1323-46eb-8105-ea398be29dcc",
    "_uuid": "318dc8302dc83b052ca8189e8f1288f22a3977cf",
    "collapsed": true,
    "jupyter": {
     "outputs_hidden": true
    }
   },
   "outputs": [],
   "source": [
    "industry = funding_data['SubVertical'].value_counts().head(10)\n",
    "print(industry)\n",
    "plt.figure(figsize=(15,8))\n",
    "sns.barplot(industry.index, industry.values, alpha=0.9, color=color[0])\n",
    "plt.xticks(rotation='vertical')\n",
    "plt.xlabel('Subvertical of startups', fontsize=12)\n",
    "plt.ylabel('Number of fundings made', fontsize=12)\n",
    "plt.title(\"Subvertical of startups with number of funding\", fontsize=16)\n",
    "plt.show()"
   ]
  },
  {
   "cell_type": "markdown",
   "metadata": {
    "_cell_guid": "f5010043-429e-428a-b5a4-d01abd4e7dc8",
    "_uuid": "3496092e7e9cc900e01cb4e1af18c634aee65472"
   },
   "source": [
    "In Subcategores, **\"Online Phamacy\"** got maximim number of fundings."
   ]
  },
  {
   "cell_type": "markdown",
   "metadata": {
    "_cell_guid": "3533378a-1de5-4e8b-8c35-a30f81d52731",
    "_uuid": "1640e835bf7d6c37fb6550405472f933330f5e9b"
   },
   "source": [
    "## Ques 4 : Do cities play a major role in funding ? (OR) Which city has maximum startups ?\n"
   ]
  },
  {
   "cell_type": "code",
   "execution_count": null,
   "metadata": {
    "_cell_guid": "6f624471-2680-4bfa-8147-a01aef33cef8",
    "_uuid": "8e4fa0436717aa45bd7bf2bf7eac8fb45d495699",
    "collapsed": true,
    "jupyter": {
     "outputs_hidden": true
    }
   },
   "outputs": [],
   "source": [
    "city = funding_data['CityLocation'].value_counts().head(10)\n",
    "print(city)\n",
    "plt.figure(figsize=(15,8))\n",
    "sns.barplot(city.index, city.values, alpha=0.9, color=color[0])\n",
    "plt.xticks(rotation='vertical')\n",
    "plt.xlabel('city location of startups', fontsize=12)\n",
    "plt.ylabel('Number of fundings made', fontsize=12)\n",
    "plt.title(\"city location of startups with number of funding\", fontsize=16)\n",
    "plt.show()"
   ]
  },
  {
   "cell_type": "markdown",
   "metadata": {
    "_cell_guid": "40eaf7f8-2bd6-41b4-9642-c9ce2769d3f0",
    "_uuid": "f2d42ec02e23097df15122cf3b8ad4f0288d4031"
   },
   "source": [
    "**Distribution of startups across Top different cities**"
   ]
  },
  {
   "cell_type": "code",
   "execution_count": null,
   "metadata": {
    "_cell_guid": "1dd31df6-4cd0-4a90-8dd7-07a386784e60",
    "_uuid": "ef90eb3c2d0e0444f28e6db9768a7c9929ab6b49",
    "collapsed": true,
    "jupyter": {
     "outputs_hidden": true
    }
   },
   "outputs": [],
   "source": [
    "plt.figure(figsize=(15,8))\n",
    "count = funding_data['CityLocation'].value_counts()\n",
    "squarify.plot(sizes=count.values,label=count.index, value=count.values)\n",
    "plt.title('Distribution of Startups across Top cities')"
   ]
  },
  {
   "cell_type": "markdown",
   "metadata": {
    "_cell_guid": "f0372fb8-67fa-42e9-9f5c-3054a79c4166",
    "_uuid": "d24adf4676141d1179e9cbef4f438c84eadcf8fe"
   },
   "source": [
    "We can see **Bangalore** attracts more number of investotrs followed by **Mumbai** and **New** **Delhi**"
   ]
  },
  {
   "cell_type": "markdown",
   "metadata": {
    "_cell_guid": "82a94baf-40db-4559-858a-a89a6132adf9",
    "_uuid": "ffb8f6087435239338661333fab66808334406dd"
   },
   "source": [
    "## Ques 5 : Who is the important investors in the Indian Ecosystem?\n"
   ]
  },
  {
   "cell_type": "code",
   "execution_count": null,
   "metadata": {
    "_cell_guid": "f8bcb553-4bf8-4ce2-b660-2cca4b52efdd",
    "_uuid": "9fc56376b5495153d7fbc9ede1a95591df9f358b",
    "collapsed": true,
    "jupyter": {
     "outputs_hidden": true
    }
   },
   "outputs": [],
   "source": [
    "from wordcloud import WordCloud\n",
    "\n",
    "names = funding_data[\"InvestorsName\"][~pd.isnull(funding_data[\"InvestorsName\"])]\n",
    "#print(names)\n",
    "wordcloud = WordCloud(max_font_size=50, width=600, height=300).generate(' '.join(names))\n",
    "plt.figure(figsize=(15,8))\n",
    "plt.imshow(wordcloud)\n",
    "plt.title(\"Wordcloud for Investor Names\", fontsize=35)\n",
    "plt.axis(\"off\")\n",
    "plt.show()"
   ]
  },
  {
   "cell_type": "code",
   "execution_count": null,
   "metadata": {
    "_cell_guid": "4b71380c-ae89-4ce0-94cf-50a7c624fdb8",
    "_uuid": "7b385ecbd682b591c761579a17bb5a99ff517862",
    "collapsed": true,
    "jupyter": {
     "outputs_hidden": true
    }
   },
   "outputs": [],
   "source": [
    "funding_data['InvestorsName'][funding_data['InvestorsName'] == 'Undisclosed investors'] = 'Undisclosed Investors'\n",
    "funding_data['InvestorsName'][funding_data['InvestorsName'] == 'undisclosed Investors'] = 'Undisclosed Investors'\n",
    "funding_data['InvestorsName'][funding_data['InvestorsName'] == 'undisclosed investors'] = 'Undisclosed Investors'\n",
    "funding_data['InvestorsName'][funding_data['InvestorsName'] == 'Undisclosed investor'] = 'Undisclosed Investors'\n",
    "funding_data['InvestorsName'][funding_data['InvestorsName'] == 'Undisclosed Investor'] = 'Undisclosed Investors'\n",
    "funding_data['InvestorsName'][funding_data['InvestorsName'] == 'Undisclosed'] = 'Undisclosed Investors'\n"
   ]
  },
  {
   "cell_type": "code",
   "execution_count": null,
   "metadata": {
    "_cell_guid": "8697bdae-e617-4adc-8c2a-72cc3d4b3315",
    "_uuid": "497031e60545421c385b120d716f1440841514ff",
    "collapsed": true,
    "jupyter": {
     "outputs_hidden": true
    }
   },
   "outputs": [],
   "source": [
    "investors = funding_data['InvestorsName'].value_counts().head(10)\n",
    "print(investors)\n",
    "plt.figure(figsize=(15,8))\n",
    "sns.barplot(investors.index, investors.values, alpha=0.9, color=color[0])\n",
    "plt.xticks(rotation='vertical')\n",
    "plt.xlabel('Investors Names', fontsize=12)\n",
    "plt.ylabel('Number of fundings made', fontsize=12)\n",
    "plt.title(\"Investors Names with number of funding\", fontsize=16)\n",
    "plt.show()"
   ]
  },
  {
   "cell_type": "markdown",
   "metadata": {
    "_cell_guid": "110fc4e3-8fe9-4f08-b3e9-ec13d12d1db7",
    "_uuid": "934eb69cd7e39da7257c3fc18f9b678a45021a8b"
   },
   "source": [
    "**Indian Angel network **and** Ratan tata** funded maximum number of startups followed by **Kalaari Caitals**."
   ]
  },
  {
   "cell_type": "markdown",
   "metadata": {
    "_cell_guid": "ed12a359-f562-4d99-a9f2-6024c57ee1e8",
    "_uuid": "7b1879854751a39e3c37e3a232f8481c26f0a16e"
   },
   "source": [
    "## Ques 6 : What are different types of funding for startups ?"
   ]
  },
  {
   "cell_type": "code",
   "execution_count": null,
   "metadata": {
    "_cell_guid": "9e42a186-3f22-4f46-b04e-80a8855cff0b",
    "_uuid": "1920149a9d894b5a8fc74552b24383af2167519a",
    "collapsed": true,
    "jupyter": {
     "outputs_hidden": true
    }
   },
   "outputs": [],
   "source": [
    "investment = funding_data['InvestmentType'].value_counts()\n",
    "print(investment)"
   ]
  },
  {
   "cell_type": "code",
   "execution_count": null,
   "metadata": {
    "_cell_guid": "4ecd0a48-cd16-490d-9e95-54bd87818d0e",
    "_uuid": "28f3794cdfbe6dac1bcade0920cf462e6ea0fe2b",
    "collapsed": true,
    "jupyter": {
     "outputs_hidden": true
    }
   },
   "outputs": [],
   "source": [
    "funding_data['InvestmentType'][funding_data['InvestmentType'] == 'SeedFunding'] = 'Seed Funding'\n",
    "funding_data['InvestmentType'][funding_data['InvestmentType'] == 'Crowd funding'] = 'Crowd Funding'\n",
    "funding_data['InvestmentType'][funding_data['InvestmentType'] == 'PrivateEquity'] = 'Private Equity'\n"
   ]
  },
  {
   "cell_type": "code",
   "execution_count": null,
   "metadata": {
    "_cell_guid": "97435571-afaf-4f34-a29f-c4d93d114361",
    "_uuid": "7153e77e335bcc5c32b64b715629e86243307589",
    "collapsed": true,
    "jupyter": {
     "outputs_hidden": true
    }
   },
   "outputs": [],
   "source": [
    "investment = funding_data['InvestmentType'].value_counts()\n",
    "print(investment)\n",
    "plt.figure(figsize=(15,8))\n",
    "sns.barplot(investment.index, investment.values, alpha=0.9, color=color[0])\n",
    "plt.xticks(rotation='vertical')\n",
    "plt.xlabel('Investment Type', fontsize=12)\n",
    "plt.ylabel('Number of fundings made', fontsize=12)\n",
    "plt.title(\"Investment Type with number of funding\", fontsize=16)\n",
    "plt.show()"
   ]
  },
  {
   "cell_type": "code",
   "execution_count": null,
   "metadata": {
    "_cell_guid": "cae90ff4-d3e7-4bdc-83b2-deb0dd69a0c9",
    "_kg_hide-input": true,
    "_uuid": "4c9446b4066144e9e5fd163e9bac8e105cda2f46",
    "collapsed": true,
    "jupyter": {
     "outputs_hidden": true
    }
   },
   "outputs": [],
   "source": [
    "temp = funding_data[\"InvestmentType\"].value_counts()\n",
    "labels = temp.index\n",
    "sizes = (temp / temp.sum())*100\n",
    "trace = go.Pie(labels=labels, values=sizes, hoverinfo='label+percent')\n",
    "layout = go.Layout(title='Types of investment funding with %')\n",
    "data = [trace]\n",
    "fig = go.Figure(data=data, layout=layout)\n",
    "py.iplot(fig, filename=\"BorrowerGender\")"
   ]
  },
  {
   "cell_type": "markdown",
   "metadata": {
    "_cell_guid": "5a1051f9-abe4-4bc1-9710-db12e7ac3c4a",
    "_uuid": "5c4247cf379231ec5ffb70b3bd7d8f0c43eed508"
   },
   "source": [
    "We can see **Seed Funding** is in **Top** followed by Private Equity."
   ]
  },
  {
   "cell_type": "markdown",
   "metadata": {
    "_cell_guid": "75375e55-4e2a-4458-81ba-6b6a1ca00b06",
    "_uuid": "7c970343f8075b5e5342258a41d15fec5b2fd287"
   },
   "source": [
    " # More is coming and if you find useful please upvote the Kernel."
   ]
  }
 ],
 "metadata": {
  "kernelspec": {
   "display_name": "Python 3",
   "language": "python",
   "name": "python3"
  },
  "language_info": {
   "codemirror_mode": {
    "name": "ipython",
    "version": 3
   },
   "file_extension": ".py",
   "mimetype": "text/x-python",
   "name": "python",
   "nbconvert_exporter": "python",
   "pygments_lexer": "ipython3",
   "version": "3.7.6"
  }
 },
 "nbformat": 4,
 "nbformat_minor": 4
}
